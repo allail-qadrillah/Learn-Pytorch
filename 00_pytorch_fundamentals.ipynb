{
 "cells": [
  {
   "cell_type": "code",
   "execution_count": 1,
   "metadata": {},
   "outputs": [
    {
     "data": {
      "text/plain": [
       "'1.7.0'"
      ]
     },
     "execution_count": 1,
     "metadata": {},
     "output_type": "execute_result"
    }
   ],
   "source": [
    "import torch\n",
    "torch.__version__"
   ]
  },
  {
   "cell_type": "markdown",
   "metadata": {},
   "source": [
    "## Introduction to Tensors\n",
    "Tensor adalah objek matematika yang menyimpan data multidimensi dalam array, apa bedanya tensor dengan array? tensor dapat menyimpan data lebih dari 3 dimensis seperti gambar, audio ataupun video. namun dengan tipe data yang sama. sedangkan array hanya bisa menyimpan tiga dimensi dan dapat dengan tipe data yang berbeda beda. \n",
    "\n",
    "keduanya sama sama penting dalam deep learning karena dapat karena bida diolah secara matematis, seperti ditambah, dikali dan sebagainya\n",
    "\n",
    "### Creating Tensor"
   ]
  },
  {
   "cell_type": "markdown",
   "metadata": {},
   "source": [
    "#### Scalar\n",
    "adalah suatu nilai tunggal atau angka tunggal yang hanya memiliki satu nilai saja dan \n",
    "tidak memiliki arah ataupun dimensi "
   ]
  },
  {
   "cell_type": "code",
   "execution_count": 5,
   "metadata": {},
   "outputs": [
    {
     "name": "stdout",
     "output_type": "stream",
     "text": [
      "tensor(10)\n",
      "0\n",
      "10\n"
     ]
    }
   ],
   "source": [
    "scalar = torch.tensor(10)\n",
    "print(scalar)      # nilai skalar\n",
    "print(scalar.ndim) # dimensi skalar\n",
    "print(scalar.item()) # mengembalikan nilai sebagai integer"
   ]
  },
  {
   "cell_type": "markdown",
   "metadata": {},
   "source": [
    "#### Vector\n",
    "adalah nilai berdimensi tunggal dan dapat berisi banyak angka\n",
    "\n",
    "contohnya kamu dapat memiliki vektor [3, 2] untuk menjelaskan [bedrooms, bathrooms] pada rumahmu.  "
   ]
  },
  {
   "cell_type": "code",
   "execution_count": 7,
   "metadata": {},
   "outputs": [
    {
     "name": "stdout",
     "output_type": "stream",
     "text": [
      "tensor([2, 3])\n",
      "1\n"
     ]
    }
   ],
   "source": [
    "vector = torch.tensor([2, 3])\n",
    "print(vector)\n",
    "print(vector.ndim)"
   ]
  },
  {
   "cell_type": "markdown",
   "metadata": {},
   "source": [
    "vektor tersebut memiliki 1 dimensi. untuk menghitung dimensi yang dimiliki sebuah tensor, kamu dapat menghitung jumlah tanda kurung siku di bagian luar `([)` dan hanya perlu menghitung satu sisi saja\n",
    "\n",
    "konsep penting lainnya adalah atribut `shape`. ini akan memberi tahu bagaimana elemen didalamnya disusun"
   ]
  },
  {
   "cell_type": "code",
   "execution_count": 8,
   "metadata": {},
   "outputs": [
    {
     "data": {
      "text/plain": [
       "torch.Size([2])"
      ]
     },
     "execution_count": 8,
     "metadata": {},
     "output_type": "execute_result"
    }
   ],
   "source": [
    "\"\"\"kode ini mengahasilkan torch size bernilai 2. yang berarti vektor memiliki bentuk [2]\n",
    "halini diakrenakan ada dua elemen yang ditempatkan didalam kurung siku siku\"\"\"\n",
    "vector.shape"
   ]
  },
  {
   "cell_type": "markdown",
   "metadata": {},
   "source": [
    "#### Matrix\n",
    "sama fleksibelnya dengan vektor, namun memiliki 2 dimensi"
   ]
  },
  {
   "cell_type": "code",
   "execution_count": 11,
   "metadata": {},
   "outputs": [
    {
     "name": "stdout",
     "output_type": "stream",
     "text": [
      "tensor([[2, 3],\n",
      "        [4, 6]])\n",
      "2\n",
      "torch.Size([2, 2])\n"
     ]
    }
   ],
   "source": [
    "MATRIX = torch.tensor([[2, 3],\n",
    "                       [4, 6]])\n",
    "print(MATRIX) # nilai matrix\n",
    "print(MATRIX.ndim) # dimensi matrix\n",
    "print(MATRIX.shape) # ukuran matrix"
   ]
  },
  {
   "cell_type": "markdown",
   "metadata": {},
   "source": [
    "#### Tensor\n",
    "memiliki 3 dimensi atau lebih"
   ]
  },
  {
   "cell_type": "code",
   "execution_count": 13,
   "metadata": {},
   "outputs": [
    {
     "name": "stdout",
     "output_type": "stream",
     "text": [
      "tensor([[[1, 2, 3],\n",
      "         [3, 6, 9],\n",
      "         [2, 4, 5]]])\n",
      "3\n",
      "torch.Size([1, 3, 3])\n"
     ]
    }
   ],
   "source": [
    "TENSOR = torch.tensor([[[1, 2, 3],\n",
    "                        [3, 6, 9],\n",
    "                        [2, 4, 5]]])\n",
    "print(TENSOR)\n",
    "print(TENSOR.ndim)\n",
    "print(TENSOR.shape)"
   ]
  },
  {
   "cell_type": "markdown",
   "metadata": {},
   "source": [
    "bagaimana cara membaca shape dari tensor? apa maksud dari `[1, 3, 3]`?\n",
    "![image.png](https://raw.githubusercontent.com/mrdbourke/pytorch-deep-learning/main/images/00-pytorch-different-tensor-dimensions.png)\n",
    "\n",
    "Dimensi 0 adalah elemen tensor (keseluruhan tensor).\n",
    "\n",
    "Dimensi 1 adalah baris (row).\n",
    "\n",
    "Dimensi 2 adalah kolom (column) tiap barisnya.\n"
   ]
  },
  {
   "cell_type": "code",
   "execution_count": 18,
   "metadata": {},
   "outputs": [
    {
     "name": "stdout",
     "output_type": "stream",
     "text": [
      "torch.Size([2, 4, 4])\n"
     ]
    }
   ],
   "source": [
    "TENSOR = torch.tensor([[[1, 2, 3,3],\n",
    "                        [3, 6, 9,3],\n",
    "                        [3, 6, 9,4],\n",
    "                        [2, 4, 5,4]],\n",
    "                        [[1, 2, 3,3],\n",
    "                        [3, 6, 9,3],\n",
    "                        [3, 6, 9,4],\n",
    "                        [2, 4, 5,4]]])\n",
    "print(TENSOR.shape)"
   ]
  },
  {
   "cell_type": "markdown",
   "metadata": {},
   "source": [
    "maka kesimpulannya adalah\n",
    "| Nama | Deskripsi | Jumlah Dimensi | Biasanya Dilambangkan |\n",
    "|-|-|-|-|  \n",
    "|**Scalar**| Bilangan tunggal | 0 | Huruf kecil (`a`) |\n",
    "|**Vector**| Bilangan dengan arah, bisa berisi banyak nilai | 1 | Huruf kecil (`y`) |\n",
    "|**Matrix**| Susunan bilangan 2 dimensi (baris dan kolom) | 2 | Huruf kapital (`Q`) |\n",
    "|**Tensor**| Susunan bilangan multidimensi | Bisa lebih dari 2 | Huruf kapital (`X`) |\n"
   ]
  }
 ],
 "metadata": {
  "kernelspec": {
   "display_name": "MFA_DAE",
   "language": "python",
   "name": "python3"
  },
  "language_info": {
   "codemirror_mode": {
    "name": "ipython",
    "version": 3
   },
   "file_extension": ".py",
   "mimetype": "text/x-python",
   "name": "python",
   "nbconvert_exporter": "python",
   "pygments_lexer": "ipython3",
   "version": "3.8.18"
  }
 },
 "nbformat": 4,
 "nbformat_minor": 2
}

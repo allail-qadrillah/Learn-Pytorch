{
 "cells": [
  {
   "cell_type": "code",
   "execution_count": 2,
   "metadata": {},
   "outputs": [
    {
     "data": {
      "text/plain": [
       "'1.7.0'"
      ]
     },
     "execution_count": 2,
     "metadata": {},
     "output_type": "execute_result"
    }
   ],
   "source": [
    "import torch\n",
    "torch.__version__"
   ]
  },
  {
   "cell_type": "markdown",
   "metadata": {},
   "source": [
    "## Introduction to Tensors\n",
    "Tensor adalah objek matematika yang menyimpan data multidimensi dalam array, apa bedanya tensor dengan array? tensor dapat menyimpan data lebih dari 3 dimensis seperti gambar, audio ataupun video. namun dengan tipe data yang sama. sedangkan array hanya bisa menyimpan tiga dimensi dan dapat dengan tipe data yang berbeda beda. \n",
    "\n",
    "keduanya sama sama penting dalam deep learning karena dapat karena bida diolah secara matematis, seperti ditambah, dikali dan sebagainya\n",
    "\n",
    "### Creating Tensor"
   ]
  },
  {
   "cell_type": "markdown",
   "metadata": {},
   "source": [
    "#### Scalar\n",
    "adalah suatu nilai tunggal atau angka tunggal yang hanya memiliki satu nilai saja dan \n",
    "tidak memiliki arah ataupun dimensi "
   ]
  },
  {
   "cell_type": "code",
   "execution_count": 3,
   "metadata": {},
   "outputs": [
    {
     "name": "stdout",
     "output_type": "stream",
     "text": [
      "tensor(10)\n",
      "0\n",
      "10\n"
     ]
    }
   ],
   "source": [
    "scalar = torch.tensor(10)\n",
    "print(scalar)      # nilai skalar\n",
    "print(scalar.ndim) # dimensi skalar\n",
    "print(scalar.item()) # mengembalikan nilai sebagai integer"
   ]
  },
  {
   "cell_type": "markdown",
   "metadata": {},
   "source": [
    "#### Vector\n",
    "adalah nilai berdimensi tunggal dan dapat berisi banyak angka\n",
    "\n",
    "contohnya kamu dapat memiliki vektor [3, 2] untuk menjelaskan [bedrooms, bathrooms] pada rumahmu.  "
   ]
  },
  {
   "cell_type": "code",
   "execution_count": 4,
   "metadata": {},
   "outputs": [
    {
     "name": "stdout",
     "output_type": "stream",
     "text": [
      "tensor([2, 3])\n",
      "1\n"
     ]
    }
   ],
   "source": [
    "vector = torch.tensor([2, 3])\n",
    "print(vector)\n",
    "print(vector.ndim)"
   ]
  },
  {
   "cell_type": "markdown",
   "metadata": {},
   "source": [
    "vektor tersebut memiliki 1 dimensi. untuk menghitung dimensi yang dimiliki sebuah tensor, kamu dapat menghitung jumlah tanda kurung siku di bagian luar `([)` dan hanya perlu menghitung satu sisi saja\n",
    "\n",
    "konsep penting lainnya adalah atribut `shape`. ini akan memberi tahu bagaimana elemen didalamnya disusun"
   ]
  },
  {
   "cell_type": "code",
   "execution_count": 5,
   "metadata": {},
   "outputs": [
    {
     "data": {
      "text/plain": [
       "torch.Size([2])"
      ]
     },
     "execution_count": 5,
     "metadata": {},
     "output_type": "execute_result"
    }
   ],
   "source": [
    "\"\"\"kode ini mengahasilkan torch size bernilai 2. yang berarti vektor memiliki bentuk [2]\n",
    "halini diakrenakan ada dua elemen yang ditempatkan didalam kurung siku siku\"\"\"\n",
    "vector.shape"
   ]
  },
  {
   "cell_type": "markdown",
   "metadata": {},
   "source": [
    "#### Matrix\n",
    "sama fleksibelnya dengan vektor, namun memiliki 2 dimensi"
   ]
  },
  {
   "cell_type": "code",
   "execution_count": 6,
   "metadata": {},
   "outputs": [
    {
     "name": "stdout",
     "output_type": "stream",
     "text": [
      "tensor([[2, 3],\n",
      "        [4, 6]])\n",
      "2\n",
      "torch.Size([2, 2])\n"
     ]
    }
   ],
   "source": [
    "MATRIX = torch.tensor([[2, 3],\n",
    "                       [4, 6]])\n",
    "print(MATRIX) # nilai matrix\n",
    "print(MATRIX.ndim) # dimensi matrix\n",
    "print(MATRIX.shape) # ukuran matrix"
   ]
  },
  {
   "cell_type": "markdown",
   "metadata": {},
   "source": [
    "#### Tensor\n",
    "memiliki 3 dimensi atau lebih"
   ]
  },
  {
   "cell_type": "code",
   "execution_count": 7,
   "metadata": {},
   "outputs": [
    {
     "name": "stdout",
     "output_type": "stream",
     "text": [
      "tensor([[[1, 2, 3],\n",
      "         [3, 6, 9],\n",
      "         [2, 4, 5]]])\n",
      "3\n",
      "torch.Size([1, 3, 3])\n"
     ]
    }
   ],
   "source": [
    "TENSOR = torch.tensor([[[1, 2, 3],\n",
    "                        [3, 6, 9],\n",
    "                        [2, 4, 5]]])\n",
    "print(TENSOR)\n",
    "print(TENSOR.ndim)\n",
    "print(TENSOR.shape)"
   ]
  },
  {
   "cell_type": "markdown",
   "metadata": {},
   "source": [
    "bagaimana cara membaca shape dari tensor? apa maksud dari `[1, 3, 3]`?\n",
    "![image.png](https://raw.githubusercontent.com/mrdbourke/pytorch-deep-learning/main/images/00-pytorch-different-tensor-dimensions.png)\n",
    "\n",
    "Dimensi 0 adalah elemen tensor (keseluruhan tensor).\n",
    "\n",
    "Dimensi 1 adalah baris (row).\n",
    "\n",
    "Dimensi 2 adalah kolom (column) tiap barisnya.\n"
   ]
  },
  {
   "cell_type": "code",
   "execution_count": 8,
   "metadata": {},
   "outputs": [
    {
     "name": "stdout",
     "output_type": "stream",
     "text": [
      "torch.Size([2, 4, 4])\n"
     ]
    }
   ],
   "source": [
    "TENSOR = torch.tensor([[[1, 2, 3,3],\n",
    "                        [3, 6, 9,3],\n",
    "                        [3, 6, 9,4],\n",
    "                        [2, 4, 5,4]],\n",
    "                        [[1, 2, 3,3],\n",
    "                        [3, 6, 9,3],\n",
    "                        [3, 6, 9,4],\n",
    "                        [2, 4, 5,4]]])\n",
    "print(TENSOR.shape)"
   ]
  },
  {
   "cell_type": "markdown",
   "metadata": {},
   "source": [
    "maka kesimpulannya adalah\n",
    "| Nama | Deskripsi | Jumlah Dimensi | Biasanya Dilambangkan |\n",
    "|-|-|-|-|  \n",
    "|**Scalar**| Bilangan tunggal | 0 | Huruf kecil (`a`) |\n",
    "|**Vector**| Bilangan dengan arah, bisa berisi banyak nilai | 1 | Huruf kecil (`y`) |\n",
    "|**Matrix**| Susunan bilangan 2 dimensi (baris dan kolom) | 2 | Huruf kapital (`Q`) |\n",
    "|**Tensor**| Susunan bilangan multidimensi | Bisa lebih dari 2 | Huruf kapital (`X`) |\n"
   ]
  },
  {
   "cell_type": "markdown",
   "metadata": {},
   "source": [
    "## Random Tensors\n",
    "\n",
    "Random tensor penting karena banyak Neural Network belajar dengan menggunakan nilai tensor secara random dan kemudian memperbaiki nilainya untuk merepresentasikan data\n",
    "\n",
    "`Start with random numbers -> look at data -> update random numbers -> look at data -> update random numbers...`"
   ]
  },
  {
   "cell_type": "code",
   "execution_count": 21,
   "metadata": {},
   "outputs": [
    {
     "name": "stdout",
     "output_type": "stream",
     "text": [
      "tensor([[0.1841, 0.2801, 0.7980, 0.5297],\n",
      "        [0.0613, 0.5732, 0.9729, 0.1819],\n",
      "        [0.7130, 0.5016, 0.1361, 0.9989]])\n",
      "2\n"
     ]
    }
   ],
   "source": [
    "# membuat tensor random dengan ukuran (3, 4)\n",
    "random_tensor = torch.rand(size=(3, 4))\n",
    "print(random_tensor) \n",
    "print(random_tensor.ndim) "
   ]
  },
  {
   "cell_type": "markdown",
   "metadata": {},
   "source": [
    "### zero and ones\n",
    "\n",
    "terkadang kamu hanya perlu mengisi nilai tensor dengan nol atau satu\n",
    "\n",
    "hal ini sering terjadi pada masking ( seperti menutupi beberapa nilai dengan nol agar model tidak mempelajarinya ) "
   ]
  },
  {
   "cell_type": "code",
   "execution_count": 23,
   "metadata": {},
   "outputs": [
    {
     "data": {
      "text/plain": [
       "(tensor([[0., 0., 0., 0.],\n",
       "         [0., 0., 0., 0.],\n",
       "         [0., 0., 0., 0.]]),\n",
       " torch.Size([3, 4]),\n",
       " 2)"
      ]
     },
     "execution_count": 23,
     "metadata": {},
     "output_type": "execute_result"
    }
   ],
   "source": [
    "# membuat tensor yang berisi nol\n",
    "zeros = torch.zeros(size=(3,4))\n",
    "zeros, zeros.shape, zeros.ndim"
   ]
  },
  {
   "cell_type": "code",
   "execution_count": 24,
   "metadata": {},
   "outputs": [
    {
     "data": {
      "text/plain": [
       "(tensor([[1., 1., 1., 1.],\n",
       "         [1., 1., 1., 1.],\n",
       "         [1., 1., 1., 1.]]),\n",
       " torch.Size([3, 4]),\n",
       " 2)"
      ]
     },
     "execution_count": 24,
     "metadata": {},
     "output_type": "execute_result"
    }
   ],
   "source": [
    "# membuat tensor yang berisi satu\n",
    "ones = torch.ones(size=(3,4))\n",
    "ones, ones.shape, ones.ndim"
   ]
  },
  {
   "cell_type": "markdown",
   "metadata": {},
   "source": [
    "### a range tensor and like\n",
    "\n",
    "terkadang anda perlu nilai dengan range tertentu, seperti 1 sampai 10 ataupun 100"
   ]
  },
  {
   "cell_type": "code",
   "execution_count": 26,
   "metadata": {},
   "outputs": [
    {
     "data": {
      "text/plain": [
       "tensor([0, 1, 2, 3, 4, 5, 6, 7, 8, 9])"
      ]
     },
     "execution_count": 26,
     "metadata": {},
     "output_type": "execute_result"
    }
   ],
   "source": [
    "# Create a range of values 0 to 10\n",
    "zero_to_ten = torch.arange(start=0, end=10, step=1)\n",
    "zero_to_ten"
   ]
  },
  {
   "cell_type": "markdown",
   "metadata": {},
   "source": [
    "Kadang-kadang Anda mungkin menginginkan satu tensor dengan tipe tertentu dengan bentuk yang sama dengan tensor lainnya.\n",
    "\n",
    "Misalnya, tensor dengan semua angka nol dengan bentuk yang sama dengan tensor sebelumnya."
   ]
  },
  {
   "cell_type": "code",
   "execution_count": 27,
   "metadata": {},
   "outputs": [
    {
     "data": {
      "text/plain": [
       "tensor([0, 0, 0, 0, 0, 0, 0, 0, 0, 0])"
      ]
     },
     "execution_count": 27,
     "metadata": {},
     "output_type": "execute_result"
    }
   ],
   "source": [
    "# Can also create a tensor of zeros similar to another tensor\n",
    "ten_zeros = torch.zeros_like(input=zero_to_ten) # will have same shape\n",
    "ten_zeros"
   ]
  },
  {
   "cell_type": "markdown",
   "metadata": {},
   "source": [
    "### Tensor datatypes \n",
    "\n",
    "- Ada banyak tipe data tensor yang berbeda di PyTorch. Beberapa khusus untuk CPU, beberapa lebih baik untuk GPU.\n",
    "\n",
    "- Jika ada `torch.cuda`, berarti tensor untuk GPU (karena GPU Nvidia menggunakan toolkit komputasi CUDA). \n",
    "\n",
    "- Tipe paling umum adalah `torch.float32` atau `torch.float` (32-bit floating point).\n",
    "\n",
    "- Ada juga 16-bit (`torch.float16` atau `torch.half`) dan 64-bit (`torch.float64` atau `torch.double`). Dan juga ada integer 8-bit, 16-bit, 32-bit dan 64-bit.\n",
    "\n",
    "- Precision adalah jumlah detail yang digunakan untuk menggambarkan angka. Semakin tinggi nilai precision (8, 16, 32), semakin banyak detail dan data yang digunakan untuk mengekspresikan angka.\n",
    "\n",
    "- Tipe data precision rendah umumnya lebih cepat dihitung tapi mengorbankan akurasi. Precision tinggi lebih lambat tapi lebih akurat.\n",
    "\n",
    "- Jadi pilih tipe data tensor yang sesuai kebutuhan antara kecepatan komputasi dan akurasi model."
   ]
  },
  {
   "cell_type": "code",
   "execution_count": 31,
   "metadata": {},
   "outputs": [
    {
     "data": {
      "text/plain": [
       "torch.float32"
      ]
     },
     "execution_count": 31,
     "metadata": {},
     "output_type": "execute_result"
    }
   ],
   "source": [
    "# float 32 tensor\n",
    "float_32_tensor = torch.tensor([1.0, 2.0, 3.0],\n",
    "                                dtype=None, # tipe data tensor ( float32, float64 dll )\n",
    "                                device=None, # tempat penyimpanan tensor, CPU/GPU ( DEFAULT CPU)\n",
    "                                requires_grad=False # apakah tensor membutuhkan gradient untuk backprop. Diset True jika tensor merupakan parameter yang akan ditraining.\n",
    "                                )\n",
    "float_32_tensor.dtype"
   ]
  },
  {
   "cell_type": "code",
   "execution_count": 33,
   "metadata": {},
   "outputs": [
    {
     "data": {
      "text/plain": [
       "torch.float64"
      ]
     },
     "execution_count": 33,
     "metadata": {},
     "output_type": "execute_result"
    }
   ],
   "source": [
    "# float 64 tensor\n",
    "float_64_tensor = torch.tensor([1.0, 2.0, 3.0],\n",
    "                                dtype=torch.float64, # tipe data tensor ( float32, float64 dll )\n",
    "                                device=None, # tempat penyimpanan tensor, CPU/GPU ( DEFAULT CPU)\n",
    "                                requires_grad=False # apakah tensor membutuhkan gradient untuk backprop. Diset True jika tensor merupakan parameter yang akan ditraining.\n",
    "                                )\n",
    "float_64_tensor.dtype"
   ]
  },
  {
   "cell_type": "markdown",
   "metadata": {},
   "source": [
    "**Note:** Tensor datatypes adalah salah satu dari tiga error yang akan sering dijumpai dengan Pytorch dan Deep Learning\n",
    "\n",
    "1. Tensors not right datatype\n",
    "2. Tensors not right shape\n",
    "3. Tensors not on the right device\n",
    "\n",
    "Berikut penjelasan singkat terkait precision dengan tipe data tensor di PyTorch:\n",
    "\n",
    "- Semakin tinggi nilai precision (8, 16, 32, 64), semakin besar jumlah bit yang digunakan untuk menyimpan setiap elemen tensor.\n",
    "\n",
    "- Precision tinggi seperti float32 dan float64 menyimpan elemen tensor dengan akurasi tinggi. Namun memerlukan lebih banyak memori dan komputasi.\n",
    "\n",
    "- Precision rendah seperti float16 dan int8 mengurangi kebutuhan memori dan komputasi. Tetapi akurasi elemen tensor menjadi lebih rendah.\n",
    "\n",
    "- Umumnya float32 merupakan pilihan default terbaik untuk keseimbangan antara akurasi dan efisiensi komputasi.\n",
    "\n",
    "- Float16 lebih cocok jika memori terbatas seperti di mobile atau ingin komputasi lebih cepat meski akurasi sedikit berkurang.\n",
    "\n",
    "- Float64 diperlukan jika membutuhkan akurasi numeric yang sangat tinggi."
   ]
  },
  {
   "cell_type": "markdown",
   "metadata": {},
   "source": [
    "### Getting information from Tensors\n",
    "\n",
    "Setelah Anda membuat tensor (atau orang lain atau modul PyTorch telah membuatnya untuk Anda), Anda mungkin ingin mendapatkan beberapa informasi darinya."
   ]
  },
  {
   "cell_type": "code",
   "execution_count": 35,
   "metadata": {},
   "outputs": [
    {
     "name": "stdout",
     "output_type": "stream",
     "text": [
      "tensor([[0.6193, 0.0704, 0.4636, 0.5414],\n",
      "        [0.6632, 0.7680, 0.9289, 0.1290],\n",
      "        [0.1800, 0.1876, 0.9926, 0.0580]])\n",
      "Shape of tensor: torch.Size([3, 4])\n",
      "Datatype of tensor: torch.float32\n",
      "Device tensor is stored on: cpu\n"
     ]
    }
   ],
   "source": [
    "# Create a tensor\n",
    "some_tensor = torch.rand(3, 4)\n",
    "\n",
    "# Find out details about it\n",
    "print(some_tensor)\n",
    "print(f\"Shape of tensor: {some_tensor.shape}\")\n",
    "print(f\"Datatype of tensor: {some_tensor.dtype}\")\n",
    "print(f\"Device tensor is stored on: {some_tensor.device}\") # will default to CPU"
   ]
  },
  {
   "cell_type": "markdown",
   "metadata": {},
   "source": [
    "**Note:** Ketika Anda mengalami masalah pada PyTorch, biasanya masalah tersebut berkaitan dengan salah satu dari tiga atribut di atas. \n",
    "- \"what shape are my tensors? what datatype are they and where are they stored? what shape, what datatype, where where where\""
   ]
  },
  {
   "cell_type": "markdown",
   "metadata": {},
   "source": [
    "### Manipulating Tensors\n",
    "Dalam deep learning, data (gambar, teks, video, audio, struktur protein, dll) direpresentasikan sebagai tensor. Sebuah model belajar dengan menyelidiki tensor tersebut dan melakukan serangkaian operasi (bisa lebih dari 1.000.000) pada tensor untuk membuat representasi pola dalam data masukan.\n",
    "\n",
    "- Addition\n",
    "- Substraction \n",
    "- Multiplication (element-wise)\n",
    "- Division\n",
    "- Matrix multiplication"
   ]
  },
  {
   "cell_type": "code",
   "execution_count": 36,
   "metadata": {},
   "outputs": [
    {
     "data": {
      "text/plain": [
       "tensor([11, 12, 13])"
      ]
     },
     "execution_count": 36,
     "metadata": {},
     "output_type": "execute_result"
    }
   ],
   "source": [
    "# Create a tensor of values and add a number to it\n",
    "tensor = torch.tensor([1, 2, 3])\n",
    "tensor + 10"
   ]
  },
  {
   "cell_type": "code",
   "execution_count": 37,
   "metadata": {},
   "outputs": [
    {
     "data": {
      "text/plain": [
       "tensor([10, 20, 30])"
      ]
     },
     "execution_count": 37,
     "metadata": {},
     "output_type": "execute_result"
    }
   ],
   "source": [
    "tensor * 10"
   ]
  },
  {
   "cell_type": "code",
   "execution_count": 38,
   "metadata": {},
   "outputs": [
    {
     "data": {
      "text/plain": [
       "tensor([-9, -8, -7])"
      ]
     },
     "execution_count": 38,
     "metadata": {},
     "output_type": "execute_result"
    }
   ],
   "source": [
    "tensor - 10"
   ]
  },
  {
   "cell_type": "code",
   "execution_count": 42,
   "metadata": {},
   "outputs": [
    {
     "data": {
      "text/plain": [
       "tensor([0.1000, 0.2000, 0.3000])"
      ]
     },
     "execution_count": 42,
     "metadata": {},
     "output_type": "execute_result"
    }
   ],
   "source": [
    "tensor / 10"
   ]
  },
  {
   "cell_type": "code",
   "execution_count": 41,
   "metadata": {},
   "outputs": [
    {
     "name": "stdout",
     "output_type": "stream",
     "text": [
      "tensor([11, 12, 13])\n",
      "tensor([10, 20, 30])\n"
     ]
    }
   ],
   "source": [
    "# built in function pytorch\n",
    "print(torch.add(tensor, 10))\n",
    "print(torch.mul(tensor, 10))\n"
   ]
  },
  {
   "cell_type": "markdown",
   "metadata": {},
   "source": [
    "#### Matrix multiplication\n",
    "terdapat dua jenis perkalian yaitu. Element Wise Multiplication dan Matrix Multiplication"
   ]
  },
  {
   "cell_type": "code",
   "execution_count": 44,
   "metadata": {},
   "outputs": [
    {
     "name": "stdout",
     "output_type": "stream",
     "text": [
      "tensor([1, 2, 3]) * tensor([1, 2, 3])\n",
      "Equal:  tensor([1, 4, 9])\n"
     ]
    }
   ],
   "source": [
    "# Element Wise Multiplication\n",
    "print(tensor, \"*\", tensor)\n",
    "print(\"Equal: \",tensor * tensor)"
   ]
  },
  {
   "cell_type": "code",
   "execution_count": 45,
   "metadata": {},
   "outputs": [
    {
     "data": {
      "text/plain": [
       "tensor(14)"
      ]
     },
     "execution_count": 45,
     "metadata": {},
     "output_type": "execute_result"
    }
   ],
   "source": [
    "# Matrix Multiplication\n",
    "torch.matmul(tensor, tensor)"
   ]
  },
  {
   "cell_type": "markdown",
   "metadata": {},
   "source": [
    "apa perbedaanya?\n",
    "| Operation | Calculation | Code |\n",
    "|-|-|-|  \n",
    "| Element-wise multiplication | [1 * 1, 2 * 2, 3 * 3] = [1, 4, 9] | `tensor * tensor` |\n",
    "| Matrix multiplication | [1 * 1 + 2 * 2 + 3 * 3] = [14] | `tensor.matmul(tensor)` |"
   ]
  }
 ],
 "metadata": {
  "kernelspec": {
   "display_name": "MFA_DAE",
   "language": "python",
   "name": "python3"
  },
  "language_info": {
   "codemirror_mode": {
    "name": "ipython",
    "version": 3
   },
   "file_extension": ".py",
   "mimetype": "text/x-python",
   "name": "python",
   "nbconvert_exporter": "python",
   "pygments_lexer": "ipython3",
   "version": "3.8.18"
  }
 },
 "nbformat": 4,
 "nbformat_minor": 2
}
